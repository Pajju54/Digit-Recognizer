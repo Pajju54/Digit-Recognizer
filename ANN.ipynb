{
 "cells": [
  {
   "cell_type": "code",
   "execution_count": 62,
   "metadata": {},
   "outputs": [],
   "source": [
    "import numpy as np\n",
    "import pandas as pd\n",
    "from matplotlib import pyplot as plt\n"
   ]
  },
  {
   "cell_type": "code",
   "execution_count": 63,
   "metadata": {},
   "outputs": [],
   "source": [
    "data = pd.read_csv('./train.csv')\n"
   ]
  },
  {
   "cell_type": "code",
   "execution_count": null,
   "metadata": {},
   "outputs": [],
   "source": [
    "data.head()\n"
   ]
  },
  {
   "cell_type": "code",
   "execution_count": 70,
   "metadata": {},
   "outputs": [],
   "source": [
    "data = np.array(data)\n",
    "rows,cols = data.shape\n",
    "np.random.shuffle(data)\n",
    "\n",
    "data_dev = data[0:1000].T\n",
    "Y_dev = data_dev[0]\n",
    "X_dev = data_dev[1:cols] \n",
    "\n",
    "data_train = data[1000:rows].T\n",
    "Y_train = data_train[0]\n",
    "X_train = data_train[1:cols]\n",
    "\n",
    "X_dev = X_dev / 255.0\n",
    "X_train = X_train / 255.0"
   ]
  },
  {
   "cell_type": "code",
   "execution_count": 86,
   "metadata": {},
   "outputs": [],
   "source": [
    "def init_params():\n",
    "    W1 = np.random.randn(10, 784) * np.sqrt(2. / 784)\n",
    "    b1 = np.zeros((10, 1))\n",
    "    W2 = np.random.randn(10, 10) * np.sqrt(2. / 10)\n",
    "    b2 = np.zeros((10, 1))\n",
    "\n",
    "    return W1, b1, W2, b2\n",
    "\n",
    "def init_adam_params(W1_shape, W2_shape):\n",
    "    v1 = np.zeros(W1_shape)\n",
    "    s1 = np.zeros(W1_shape)\n",
    "    v2 = np.zeros(W2_shape)\n",
    "    s2 = np.zeros(W2_shape)\n",
    "    t = 0  \n",
    "\n",
    "    return v1, s1, v2, s2, t\n",
    "\n",
    "\n",
    "\n",
    "def LeakyReLU(Z):\n",
    "    return np.maximum(0.01*Z, Z)\n",
    "\n",
    "def softmax(Z):\n",
    "    Z_exp = np.exp(Z - np.max(Z, axis=0, keepdims=True))  \n",
    "    return Z_exp / np.sum(Z_exp, axis=0, keepdims=True)\n",
    "\n",
    "\n",
    "def forward_prop(W1, b1, W2, b2, X):\n",
    "    Z1 = W1.dot(X) + b1\n",
    "    A1 = LeakyReLU(Z1)\n",
    "    Z2 = W2.dot(A1) + b2\n",
    "    A2 = softmax(Z2)\n",
    "\n",
    "    return Z1, A1, Z2, A2\n",
    "\n",
    "def one_hot(Y):\n",
    "    one_hot_Y = np.zeros((Y.size, Y.max() + 1))\n",
    "    one_hot_Y[np.arange(Y.size), Y] = 1\n",
    "    one_hot_Y = one_hot_Y.T\n",
    "\n",
    "    return one_hot_Y\n",
    "\n",
    "def deriv_LeakyReLU(Z):\n",
    "    return Z > 0\n",
    "\n",
    "def back_prop(Z1, A1, Z2, A2, W2, X, Y):\n",
    "    m = Y.size\n",
    "    one_hot_Y = one_hot(Y)\n",
    "    dZ2 = A2 - one_hot_Y\n",
    "    dW2 = 1 / m * dZ2.dot(A1.T)\n",
    "    db2 = 1 / m * np.sum(dZ2, axis=1, keepdims=True)\n",
    "    dZ1 = W2.T.dot(dZ2) * deriv_LeakyReLU(Z1)\n",
    "\n",
    "    dW1 = 1 / m * dZ1.dot(X.T)\n",
    "    db1 = 1 / m * np.sum(dZ1, axis=1, keepdims=True)\n",
    "\n",
    "\n",
    "    return dW1, db1, dW2, db2\n",
    "\n",
    "def update_params(W1, b1, W2, b2, dW1, db1, dW2, db2, alpha):\n",
    "    W1 = W1 - alpha * dW1\n",
    "    b1 = b1 - alpha * db1\n",
    "    W2 = W2 - alpha * dW2\n",
    "    b2 = b2 - alpha * db2\n",
    "\n",
    "    return W1, b1, W2, b2\n",
    "\n",
    "def update_params_with_adam(W1, b1, W2, b2, dW1, db1, dW2, db2, t, alpha, beta1, beta2, epsilon, v1, s1, v2, s2):\n",
    "    t += 1\n",
    "    \n",
    "    v1 = beta1 * v1 + (1 - beta1) * dW1\n",
    "    v2 = beta1 * v2 + (1 - beta1) * dW2\n",
    "\n",
    "    s1 = beta2 * s1 + (1 - beta2) * (dW1 ** 2)\n",
    "    s2 = beta2 * s2 + (1 - beta2) * (dW2 ** 2)\n",
    "\n",
    "    v1_hat = v1 / (1 - beta1 ** t)\n",
    "    v2_hat = v2 / (1 - beta1 ** t)\n",
    "\n",
    "    s1_hat = s1 / (1 - beta2 ** t)\n",
    "    s2_hat = s2 / (1 - beta2 ** t)\n",
    "\n",
    "    W1 -= alpha * v1_hat / (np.sqrt(s1_hat) + epsilon)\n",
    "    b1 -= alpha * db1  \n",
    "    W2 -= alpha * v2_hat / (np.sqrt(s2_hat) + epsilon)\n",
    "    b2 -= alpha * db2  \n",
    "\n",
    "    return W1, b1, W2, b2, v1, s1, v2, s2, t\n",
    "\n",
    "\n",
    "\n",
    "\n"
   ]
  },
  {
   "cell_type": "code",
   "execution_count": 90,
   "metadata": {},
   "outputs": [],
   "source": [
    "def get_predictions(A2):\n",
    "    return np.argmax(A2, 0)\n",
    "\n",
    "def get_accuracy(predictions, Y):\n",
    "    return np.sum(predictions == Y) / Y.size\n",
    "\n",
    "\n",
    "initial_alpha = 0.01\n",
    "beta1 = 0.9  \n",
    "beta2 = 0.999 \n",
    "epsilon = 1e-8 \n",
    "def gradient_descent(X, Y, iteration, alpha):\n",
    "    W1, b1, W2, b2 = init_params()\n",
    "\n",
    "    v1, s1, v2, s2, t = init_adam_params(W1.shape, W2.shape)\n",
    "\n",
    "    for i in range(iteration):\n",
    "        Z1, A1, Z2, A2 = forward_prop(W1, b1, W2, b2, X)\n",
    "        dW1, db1, dW2, db2 = back_prop(Z1, A1, Z2, A2, W2, X, Y)\n",
    "        alpha = initial_alpha / (1 + 0.001 * i)  \n",
    "\n",
    "        W1, b1, W2, b2, v1, s1, v2, s2, t = update_params_with_adam( W1, b1, W2, b2, dW1, db1, dW2, db2, t, alpha, beta1, beta2, epsilon, v1, s1, v2, s2)\n",
    "        if i % 100 == 0:\n",
    "            print(\"Iteration: \", i)\n",
    "            print(\"Accuracy: \", get_accuracy(get_predictions(A2), Y))\n",
    "    return W1, b1, W2, b2\n"
   ]
  },
  {
   "cell_type": "code",
   "execution_count": 89,
   "metadata": {},
   "outputs": [
    {
     "name": "stdout",
     "output_type": "stream",
     "text": [
      "Iteration:  0\n",
      "Accuracy:  0.08119512195121951\n",
      "Iteration:  100\n",
      "Accuracy:  0.9282439024390244\n",
      "Iteration:  200\n",
      "Accuracy:  0.9416829268292682\n",
      "Iteration:  300\n",
      "Accuracy:  0.9482682926829268\n",
      "Iteration:  400\n",
      "Accuracy:  0.9521951219512195\n"
     ]
    }
   ],
   "source": [
    "\n",
    "\n",
    "W1, b1, W2, b2 = gradient_descent(X_train, Y_train,500, 0.01)"
   ]
  },
  {
   "cell_type": "code",
   "execution_count": 99,
   "metadata": {},
   "outputs": [],
   "source": [
    "def make_prediction(X, W1, b1, W2, b2):\n",
    "    Z1, A1, Z2, A2 = forward_prop(W1, b1, W2, b2, X)\n",
    "    predictions = get_predictions(A2)\n",
    "    return predictions\n",
    "\n",
    "def test_prediction(index, W1, b1, W2, b2):\n",
    "    current_image = X_train[:,index, None]\n",
    "    prediction = make_prediction(X_train[:, index, None], W1, b1, W2, b2)\n",
    "    label = Y_train[index]\n",
    "    print(\"Prediction: \", prediction)\n",
    "    print(\"Label: \", label)\n",
    "\n",
    "    current_image = current_image.reshape((28, 28)) * 255\n",
    "    plt.gray()\n",
    "    plt.imshow(current_image, interpolation='nearest')\n",
    "    plt.show()\n",
    "    "
   ]
  },
  {
   "cell_type": "code",
   "execution_count": 100,
   "metadata": {},
   "outputs": [
    {
     "name": "stdout",
     "output_type": "stream",
     "text": [
      "Prediction:  [1]\n",
      "Label:  1\n"
     ]
    },
    {
     "data": {
      "image/png": "[encoded data removed]",
      "text/plain": [
       "<Figure size 640x480 with 1 Axes>"
      ]
     },
     "metadata": {},
     "output_type": "display_data"
    }
   ],
   "source": [
    "test_prediction(220, W1, b1, W2, b2)"
   ]
  },
  {
   "cell_type": "code",
   "execution_count": null,
   "metadata": {},
   "outputs": [],
   "source": []
  }
 ],
 "metadata": {
  "kernelspec": {
   "display_name": "Python 3",
   "language": "python",
   "name": "python3"
  },
  "language_info": {
   "codemirror_mode": {
    "name": "ipython",
    "version": 3
   },
   "file_extension": ".py",
   "mimetype": "text/x-python",
   "name": "python",
   "nbconvert_exporter": "python",
   "pygments_lexer": "ipython3",
   "version": "3.12.4"
  }
 },
 "nbformat": 4,
 "nbformat_minor": 2
}
